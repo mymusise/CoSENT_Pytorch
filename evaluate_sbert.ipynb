{
 "cells": [
  {
   "cell_type": "code",
   "execution_count": 9,
   "source": [
    "# load dataset\n",
    "from dataclasses import dataclass, field\n",
    "from typing import List\n",
    "import os\n",
    "\n",
    "task_names = [\"ATEC\", \"BQ\", \"LCQMC\", \"PAWSX\", \"STS-B\"]\n",
    "\n",
    "\n",
    "@dataclass\n",
    "class Samples:\n",
    "    sentence_a: List[str] = field(default_factory=list)\n",
    "    sentence_b: List[str] = field(default_factory=list)\n",
    "    labels: List[int] = field(default_factory=list)\n",
    "\n",
    "\n",
    "def load_samples(task_name, load_limit: int = 0):\n",
    "    path = os.path.join('./data/', task_name)\n",
    "    train_path = os.path.join(path, f\"{task_name}.train.data\")\n",
    "    test_path = os.path.join(path, f\"{task_name}.test.data\")\n",
    "    valid_path = os.path.join(path, f\"{task_name}.valid.data\")\n",
    "    def load_data(load_path):\n",
    "        samples = Samples()\n",
    "        with open(load_path) as f:\n",
    "            lines = f.readlines()\n",
    "            if load_limit > 0:\n",
    "                lines = lines[:load_limit]\n",
    "            for line in lines:\n",
    "                s1, s2, l = line.split(\"\\t\")\n",
    "                l = int(l)\n",
    "                samples.sentence_a.append(s1)\n",
    "                samples.sentence_b.append(s2)\n",
    "                samples.labels.append(l)\n",
    "        return samples\n",
    "    train_samples = load_data(train_path)\n",
    "    test_samples = load_data(test_path)\n",
    "    valid_samples = load_data(valid_path)\n",
    "    return train_samples, test_samples, valid_samples\n",
    "\n",
    "\n",
    "task_samples = {}\n",
    "for task_name in task_names:\n",
    "    train_samples, test_samples, valid_samples = load_samples(task_name, load_limit=10 ** 7)\n",
    "    task_samples[task_name] = {\"train\": train_samples, \"test\": test_samples, \"valid\": valid_samples}"
   ],
   "outputs": [],
   "metadata": {}
  },
  {
   "cell_type": "code",
   "execution_count": 12,
   "source": [
    "# load & test model\n",
    "from sentence_transformers import SentenceTransformer\n",
    "from sentence_transformers.evaluation import EmbeddingSimilarityEvaluator\n",
    "\n",
    "model_names = [\"stsb-xlm-r-multilingual\"]\n",
    "\n",
    "for model_name in model_names:\n",
    "    model = SentenceTransformer(model_name)\n",
    "\n",
    "    for task_name in task_names:\n",
    "        dtype = \"valid\"\n",
    "        samples = task_samples.get(task_name)[dtype]\n",
    "        evaluator = EmbeddingSimilarityEvaluator(samples.sentence_a, samples.sentence_b, samples.labels, name=f\"{model_name}_{task_name}\")\n",
    "        evaluator(model, output_path=\"./output\")"
   ],
   "outputs": [
    {
     "output_type": "stream",
     "name": "stderr",
     "text": [
      "/Users/guochengxi/miniforge3/envs/.venv/lib/python3.9/site-packages/transformers/tokenization_utils_base.py:2227: UserWarning: `max_length` is ignored when `padding`=`True`.\n",
      "  warnings.warn(\"`max_length` is ignored when `padding`=`True`.\")\n",
      "/Users/guochengxi/miniforge3/envs/.venv/lib/python3.9/site-packages/transformers/tokenization_utils_base.py:2227: UserWarning: `max_length` is ignored when `padding`=`True`.\n",
      "  warnings.warn(\"`max_length` is ignored when `padding`=`True`.\")\n",
      "/Users/guochengxi/miniforge3/envs/.venv/lib/python3.9/site-packages/transformers/tokenization_utils_base.py:2227: UserWarning: `max_length` is ignored when `padding`=`True`.\n",
      "  warnings.warn(\"`max_length` is ignored when `padding`=`True`.\")\n",
      "/Users/guochengxi/miniforge3/envs/.venv/lib/python3.9/site-packages/transformers/tokenization_utils_base.py:2227: UserWarning: `max_length` is ignored when `padding`=`True`.\n",
      "  warnings.warn(\"`max_length` is ignored when `padding`=`True`.\")\n",
      "/Users/guochengxi/miniforge3/envs/.venv/lib/python3.9/site-packages/transformers/tokenization_utils_base.py:2227: UserWarning: `max_length` is ignored when `padding`=`True`.\n",
      "  warnings.warn(\"`max_length` is ignored when `padding`=`True`.\")\n"
     ]
    }
   ],
   "metadata": {}
  },
  {
   "cell_type": "code",
   "execution_count": 25,
   "source": [
    "filename"
   ],
   "outputs": [
    {
     "output_type": "execute_result",
     "data": {
      "text/plain": [
       "'similarity_evaluation_stsb-xlm-r-multilingual_LCQMC_results'"
      ]
     },
     "metadata": {},
     "execution_count": 25
    }
   ],
   "metadata": {}
  }
 ],
 "metadata": {
  "orig_nbformat": 4,
  "language_info": {
   "name": "python",
   "version": "3.9.7",
   "mimetype": "text/x-python",
   "codemirror_mode": {
    "name": "ipython",
    "version": 3
   },
   "pygments_lexer": "ipython3",
   "nbconvert_exporter": "python",
   "file_extension": ".py"
  },
  "kernelspec": {
   "name": "python3",
   "display_name": "Python 3.9.7 64-bit ('.venv': conda)"
  },
  "interpreter": {
   "hash": "67d974fe3286b95f431e50f500180bd801a0d2fe0eaff52a731cd379d50146e2"
  }
 },
 "nbformat": 4,
 "nbformat_minor": 2
}